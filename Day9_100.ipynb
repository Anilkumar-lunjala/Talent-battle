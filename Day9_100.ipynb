{
  "nbformat": 4,
  "nbformat_minor": 0,
  "metadata": {
    "colab": {
      "provenance": []
    },
    "kernelspec": {
      "name": "python3",
      "display_name": "Python 3"
    },
    "language_info": {
      "name": "python"
    }
  },
  "cells": [
    {
      "cell_type": "markdown",
      "source": [
        "Day 9 coding Statement :  Write a program to  find Number digits in an integer"
      ],
      "metadata": {
        "id": "j2H9tEZAWoN-"
      }
    },
    {
      "cell_type": "code",
      "source": [
        "num = int(input(\"Enter an integer\"))\n",
        "a = str(num)\n",
        "digits = len(a)\n",
        "print(\"Number of digits in an given integer is \",digits)"
      ],
      "metadata": {
        "colab": {
          "base_uri": "https://localhost:8080/"
        },
        "id": "cHvpBmGvWqV1",
        "outputId": "51db2059-ce79-43a9-b921-1ccde6a0940b"
      },
      "execution_count": 11,
      "outputs": [
        {
          "output_type": "stream",
          "name": "stdout",
          "text": [
            "Enter an integer3421\n",
            "Number of digits in an given integer is  4\n"
          ]
        }
      ]
    }
  ]
}