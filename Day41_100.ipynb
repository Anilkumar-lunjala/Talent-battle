{
  "nbformat": 4,
  "nbformat_minor": 0,
  "metadata": {
    "colab": {
      "provenance": []
    },
    "kernelspec": {
      "name": "python3",
      "display_name": "Python 3"
    },
    "language_info": {
      "name": "python"
    }
  },
  "cells": [
    {
      "cell_type": "markdown",
      "source": [
        "**Day 41 coding statement:** Check if two strings match where one string contains wildcard characters"
      ],
      "metadata": {
        "id": "08P8wxLeGpk4"
      }
    },
    {
      "cell_type": "markdown",
      "source": [
        "**Description**\n",
        "\n",
        "Get two strings as input from the user, first with wildcard characters (* and ?) and second without wildcard characters.\n",
        "\n",
        "Then check whether they match or not.\n",
        "\n",
        "Input\n",
        "\n",
        "Ta**nt\n",
        "\n",
        "Talent\n",
        "\n",
        "Output\n",
        "\n",
        "Yes they match"
      ],
      "metadata": {
        "id": "nWNry3tjGxv9"
      }
    },
    {
      "cell_type": "code",
      "execution_count": 5,
      "metadata": {
        "colab": {
          "base_uri": "https://localhost:8080/"
        },
        "id": "6OlXxuRME3qS",
        "outputId": "ae986353-c787-423a-c6e7-421ba2b0a7f0"
      },
      "outputs": [
        {
          "output_type": "stream",
          "name": "stdout",
          "text": [
            "Enter the first string with wildcharacters: tal***\n",
            "Enter the second string without wildcharaters: talent\n",
            "Yes! They are match\n"
          ]
        }
      ],
      "source": [
        "string1 = input( \"Enter the first string with wildcharacters: \")\n",
        "string2 = input(\"Enter the second string without wildcharaters: \")\n",
        "if string1 == string2 or ('*' or '?' in string1 and len(string1)==len(string2)):\n",
        "  print(\"Yes! They are match\")\n",
        "else:\n",
        "  print(\"No! They are not match\")\n",
        "  "
      ]
    }
  ]
}