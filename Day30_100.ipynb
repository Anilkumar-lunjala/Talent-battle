{
  "nbformat": 4,
  "nbformat_minor": 0,
  "metadata": {
    "colab": {
      "provenance": []
    },
    "kernelspec": {
      "name": "python3",
      "display_name": "Python 3"
    },
    "language_info": {
      "name": "python"
    }
  },
  "cells": [
    {
      "cell_type": "markdown",
      "source": [
        "**Day 30 coding statement**: Write a program to find the length of a string without using strlen()."
      ],
      "metadata": {
        "id": "FF2hChBY8H2m"
      }
    },
    {
      "cell_type": "code",
      "execution_count": 16,
      "metadata": {
        "colab": {
          "base_uri": "https://localhost:8080/"
        },
        "id": "BVd1ZzV57_Ok",
        "outputId": "2b78f966-57db-4a8a-bd3e-287dc7bedb36"
      },
      "outputs": [
        {
          "output_type": "stream",
          "name": "stdout",
          "text": [
            "Enter a string: hello\n",
            "5\n"
          ]
        }
      ],
      "source": [
        "string = input(\"Enter a string: \")\n",
        "count = 0\n",
        "for i in string:\n",
        "  count = count+1\n",
        "print(count)"
      ]
    }
  ]
}