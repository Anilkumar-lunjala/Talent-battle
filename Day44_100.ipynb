{
  "nbformat": 4,
  "nbformat_minor": 0,
  "metadata": {
    "colab": {
      "provenance": []
    },
    "kernelspec": {
      "name": "python3",
      "display_name": "Python 3"
    },
    "language_info": {
      "name": "python"
    }
  },
  "cells": [
    {
      "cell_type": "markdown",
      "source": [
        "##**Day 44 coding statement:** Write Program to find number of even and odd elements in an array"
      ],
      "metadata": {
        "id": "08P8wxLeGpk4"
      }
    },
    {
      "cell_type": "markdown",
      "source": [
        "**Description**\n",
        "\n",
        "Get an array as input from the user and then count the number of even and odd elements present in the array.\n",
        "\n",
        "Input\n",
        "\n",
        "Enter size of array\n",
        "\n",
        "4\n",
        "\n",
        "Enter the elements :\n",
        "\n",
        "1 3 4 5\n",
        "\n",
        "Output\n",
        "\n",
        "Number of even elements :\n",
        "\n",
        "1\n",
        "\n",
        "Number of odd elements :\n",
        "\n",
        "3"
      ],
      "metadata": {
        "id": "nWNry3tjGxv9"
      }
    },
    {
      "cell_type": "code",
      "source": [
        "size = int(input(\"Enter the size of the array: \"))\n",
        "array = []\n",
        "\n",
        "for i in range(0,size):\n",
        "  temp = int(input())\n",
        "  array.append(temp)\n",
        "\n",
        "odd = 0\n",
        "even = 0\n",
        "\n",
        "for i in range(0,size):\n",
        "  if array[i] % 2 == 0:\n",
        "    even += 1\n",
        "  else:\n",
        "    odd += 1\n",
        "\n",
        "print(\"Number of even numbers: \\n\",even)\n",
        "print(\"Number of odd numbers: \\n\",odd)\n"
      ],
      "metadata": {
        "colab": {
          "base_uri": "https://localhost:8080/"
        },
        "id": "GBUMZYsDKhjx",
        "outputId": "ec1d177e-01ce-4791-cd6e-c72342e3a7e1"
      },
      "execution_count": 15,
      "outputs": [
        {
          "output_type": "stream",
          "name": "stdout",
          "text": [
            "Enter the size of the array: 4\n",
            "1\n",
            "2\n",
            "3\n",
            "5\n",
            "Number of even numbers: \n",
            " 1\n",
            "Number of odd numbers: \n",
            " 3\n"
          ]
        }
      ]
    }
  ]
}