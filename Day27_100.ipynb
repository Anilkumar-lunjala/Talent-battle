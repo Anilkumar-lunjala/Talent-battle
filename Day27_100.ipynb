{
  "nbformat": 4,
  "nbformat_minor": 0,
  "metadata": {
    "colab": {
      "provenance": []
    },
    "kernelspec": {
      "name": "python3",
      "display_name": "Python 3"
    },
    "language_info": {
      "name": "python"
    }
  },
  "cells": [
    {
      "cell_type": "markdown",
      "source": [
        "**Day 27 coding statement**: Write a program to double the given number without using arithmetic operators."
      ],
      "metadata": {
        "id": "FF2hChBY8H2m"
      }
    },
    {
      "cell_type": "code",
      "execution_count": 6,
      "metadata": {
        "colab": {
          "base_uri": "https://localhost:8080/"
        },
        "id": "BVd1ZzV57_Ok",
        "outputId": "b4b9c470-2e62-42ce-febb-fd661df9197e"
      },
      "outputs": [
        {
          "output_type": "stream",
          "name": "stdout",
          "text": [
            "Enter a value: 4\n",
            "8\n"
          ]
        }
      ],
      "source": [
        "num = int(input(\"Enter a value: \"))\n",
        "double = (num<<1)\n",
        "print(double)"
      ]
    }
  ]
}