{
  "nbformat": 4,
  "nbformat_minor": 0,
  "metadata": {
    "colab": {
      "provenance": []
    },
    "kernelspec": {
      "name": "python3",
      "display_name": "Python 3"
    },
    "language_info": {
      "name": "python"
    }
  },
  "cells": [
    {
      "cell_type": "markdown",
      "source": [
        "**Day 28 coding statement**: Write a program to print reverse of the given string."
      ],
      "metadata": {
        "id": "FF2hChBY8H2m"
      }
    },
    {
      "cell_type": "code",
      "execution_count": 8,
      "metadata": {
        "colab": {
          "base_uri": "https://localhost:8080/"
        },
        "id": "BVd1ZzV57_Ok",
        "outputId": "56e46e70-1b00-4e71-98bf-74bfb90f6470"
      },
      "outputs": [
        {
          "output_type": "stream",
          "name": "stdout",
          "text": [
            "Enter a string : Hello\n",
            "The reverse of the given string is:  olleH\n"
          ]
        }
      ],
      "source": [
        "string = input(\"Enter a string : \")\n",
        "reverse = string[::-1]\n",
        "print(\"The reverse of the given string is: \",reverse)"
      ]
    }
  ]
}