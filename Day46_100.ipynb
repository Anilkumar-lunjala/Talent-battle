{
  "nbformat": 4,
  "nbformat_minor": 0,
  "metadata": {
    "colab": {
      "provenance": []
    },
    "kernelspec": {
      "name": "python3",
      "display_name": "Python 3"
    },
    "language_info": {
      "name": "python"
    }
  },
  "cells": [
    {
      "cell_type": "markdown",
      "source": [
        "##**Day 46 coding statement:** Write Program to find sum of elements in an array"
      ],
      "metadata": {
        "id": "08P8wxLeGpk4"
      }
    },
    {
      "cell_type": "markdown",
      "source": [
        "**Description**\n",
        "\n",
        "Get an array as the input from the user and find the sum of the elements.\n",
        "\n",
        "Input\n",
        "\n",
        "Enter the size of array\n",
        "\n",
        "3\n",
        "\n",
        "Enter the elements of array\n",
        "\n",
        "5 10 15\n",
        "\n",
        "Output\n",
        "\n",
        "30"
      ],
      "metadata": {
        "id": "nWNry3tjGxv9"
      }
    },
    {
      "cell_type": "code",
      "source": [
        "size = int(input(\"Enter the size of array: \"))\n",
        "print(\"Enter the elements of array\")\n",
        "array = list(map(int,input().split()))\n",
        "print(\"The Sum of array elements is\\n\",sum(array))"
      ],
      "metadata": {
        "colab": {
          "base_uri": "https://localhost:8080/"
        },
        "id": "mjPHE0NoHKIE",
        "outputId": "aaf98bbd-eda0-4697-fbbb-968e37ea5159"
      },
      "execution_count": 3,
      "outputs": [
        {
          "output_type": "stream",
          "name": "stdout",
          "text": [
            "Enter the size of array: 3\n",
            "Enter the elements of array\n",
            "5 10 15\n",
            "The Sum of array elements is\n",
            " 30\n"
          ]
        }
      ]
    }
  ]
}