{
  "nbformat": 4,
  "nbformat_minor": 0,
  "metadata": {
    "colab": {
      "provenance": []
    },
    "kernelspec": {
      "name": "python3",
      "display_name": "Python 3"
    },
    "language_info": {
      "name": "python"
    }
  },
  "cells": [
    {
      "cell_type": "markdown",
      "source": [
        "##**Day 50 coding statement:** Given an integer array of size N. Write Program to find sum of positive square elements in the array."
      ],
      "metadata": {
        "id": "08P8wxLeGpk4"
      }
    },
    {
      "cell_type": "markdown",
      "source": [
        "**Description**\n",
        "\n",
        "Sample input 1 :\n",
        "\n",
        "4 1 2 3 4\n",
        "\n",
        "Sample output 1 :\n",
        "\n",
        "30\n",
        "\n",
        "Explanation :\n",
        "\n",
        "(1 + 4 + 9 + 16) = 30\n",
        "\n",
        "Sample input 2 :\n",
        "\n",
        "4 -1 -2 -3 -4\n",
        "\n",
        "Sample output 2 :\n",
        "\n",
        "30\n",
        "\n",
        "Explanation :\n",
        "\n",
        "(1 + 4 + 9 + 16) = 30"
      ],
      "metadata": {
        "id": "nWNry3tjGxv9"
      }
    },
    {
      "cell_type": "code",
      "source": [
        "size = int(input(\"Enter the size of array: \"))\n",
        "print(\"Enter the array elements \")\n",
        "array = list(map(int,input().split()))\n",
        "final_list = []\n",
        "for i in array:\n",
        "  i = i * i\n",
        "  if i not in final_list:\n",
        "    final_list.append(i)\n",
        "final_list.sort()\n",
        "print(sum(final_list))"
      ],
      "metadata": {
        "colab": {
          "base_uri": "https://localhost:8080/"
        },
        "id": "R27Byipa3Nzx",
        "outputId": "3621dea7-2719-4f16-b545-faf0403e9e0f"
      },
      "execution_count": 9,
      "outputs": [
        {
          "output_type": "stream",
          "name": "stdout",
          "text": [
            "Enter the size of array: 5\n",
            "Enter the array elements \n",
            "4 -1 -2 -3 -4\n",
            "30\n"
          ]
        }
      ]
    }
  ]
}