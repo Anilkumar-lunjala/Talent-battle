{
  "nbformat": 4,
  "nbformat_minor": 0,
  "metadata": {
    "colab": {
      "provenance": []
    },
    "kernelspec": {
      "name": "python3",
      "display_name": "Python 3"
    },
    "language_info": {
      "name": "python"
    }
  },
  "cells": [
    {
      "cell_type": "markdown",
      "source": [
        "Day 8 coding Statement :  Write a program to  find roots of a quadratic equation"
      ],
      "metadata": {
        "id": "j2H9tEZAWoN-"
      }
    },
    {
      "cell_type": "code",
      "source": [
        "#import complex math module\n",
        "import math\n",
        "a = float(input(\"enter the a value:\")) \n",
        "b = float(input(\"enter the b value:\"))\n",
        "c = float(input(\"enter the c value:\"))\n",
        "#calculate the determinant\n",
        "d = (b**2) - (4 * a * c)\n",
        "#find the roots\n",
        "root1 = (-b - math.sqrt(d))/(2*a)\n",
        "root2 = (-b + math.sqrt(d))/(2*a)\n",
        "#printing the roots\n",
        "if root1 == root2:\n",
        "  print(\"Roots are equal\")\n",
        "  print(\"Root1={} and Root2 {}\".format(root1,root2))\n",
        "else:\n",
        "  print(\"Roots are not equal\")\n",
        "  print(\"Root1={} and Root2 {}\".format(root1,root2))"
      ],
      "metadata": {
        "colab": {
          "base_uri": "https://localhost:8080/"
        },
        "id": "cHvpBmGvWqV1",
        "outputId": "dcb2b59b-3803-4118-884d-6912f26c723f"
      },
      "execution_count": 6,
      "outputs": [
        {
          "output_type": "stream",
          "name": "stdout",
          "text": [
            "enter the a value:1\n",
            "enter the b value:-6\n",
            "enter the c value:9\n",
            "Roots are equal\n",
            "Root1=3.0 and Root2 3.0\n"
          ]
        }
      ]
    }
  ]
}