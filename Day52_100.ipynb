{
  "nbformat": 4,
  "nbformat_minor": 0,
  "metadata": {
    "colab": {
      "provenance": []
    },
    "kernelspec": {
      "name": "python3",
      "display_name": "Python 3"
    },
    "language_info": {
      "name": "python"
    }
  },
  "cells": [
    {
      "cell_type": "markdown",
      "source": [
        "##**Day 52 coding statement:**  Given an integer array of size N, write a program to reverse the array"
      ],
      "metadata": {
        "id": "08P8wxLeGpk4"
      }
    },
    {
      "cell_type": "markdown",
      "source": [
        "**Description**\n",
        "\n",
        "Sample input 1:\n",
        "\n",
        "4\n",
        "\n",
        "2 4 1 3\n",
        "\n",
        "Sample output 1:\n",
        "\n",
        "3 1 4 2\n",
        "\n",
        "Sample input 2:\n",
        "\n",
        "5\n",
        "\n",
        "1 5 7 5 3\n",
        "\n",
        "Sample output 2:\n",
        "\n",
        "3 5 7 5 1"
      ],
      "metadata": {
        "id": "nWNry3tjGxv9"
      }
    },
    {
      "cell_type": "code",
      "source": [
        "size = int(input(\"Enter the size of array: \"))\n",
        "print(\"Enter the array elements \")\n",
        "array = list(map(int,input().split()))\n",
        "final_list =[]\n",
        "for i in array:\n",
        "  final_list.append(i)\n",
        "final_list.reverse()\n",
        "print(final_list)"
      ],
      "metadata": {
        "colab": {
          "base_uri": "https://localhost:8080/"
        },
        "id": "R27Byipa3Nzx",
        "outputId": "a84c01da-ca57-4fe0-fc49-e4c59bf3669c"
      },
      "execution_count": 12,
      "outputs": [
        {
          "output_type": "stream",
          "name": "stdout",
          "text": [
            "Enter the size of array: 5\n",
            "Enter the array elements \n",
            "1 6 4 3 2\n",
            "[2, 3, 4, 6, 1]\n"
          ]
        }
      ]
    }
  ]
}