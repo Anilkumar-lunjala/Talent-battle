{
  "nbformat": 4,
  "nbformat_minor": 0,
  "metadata": {
    "colab": {
      "provenance": []
    },
    "kernelspec": {
      "name": "python3",
      "display_name": "Python 3"
    },
    "language_info": {
      "name": "python"
    }
  },
  "cells": [
    {
      "cell_type": "markdown",
      "source": [
        "**Day 36 coding statement**: Write a program to  Capitalize the first and last letter of each word of a string."
      ],
      "metadata": {
        "id": "FF2hChBY8H2m"
      }
    },
    {
      "cell_type": "code",
      "execution_count": 3,
      "metadata": {
        "colab": {
          "base_uri": "https://localhost:8080/"
        },
        "id": "BVd1ZzV57_Ok",
        "outputId": "4efd101b-37b1-4fe2-830a-c097438e2c6a"
      },
      "outputs": [
        {
          "output_type": "stream",
          "name": "stdout",
          "text": [
            "Enter a string: programming\n",
            "ProgramminG\n"
          ]
        }
      ],
      "source": [
        "string = input(\"Enter a string: \")\n",
        "x = string[0].upper() + string[1:-1] + string[-1].upper()\n",
        "print(x)"
      ]
    }
  ]
}