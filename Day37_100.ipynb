{
  "nbformat": 4,
  "nbformat_minor": 0,
  "metadata": {
    "colab": {
      "provenance": []
    },
    "kernelspec": {
      "name": "python3",
      "display_name": "Python 3"
    },
    "language_info": {
      "name": "python"
    }
  },
  "cells": [
    {
      "cell_type": "markdown",
      "source": [
        "**Day 37 coding statement**: Write a program to calculate frequency of a character in a string."
      ],
      "metadata": {
        "id": "FF2hChBY8H2m"
      }
    },
    {
      "cell_type": "code",
      "execution_count": 4,
      "metadata": {
        "colab": {
          "base_uri": "https://localhost:8080/"
        },
        "id": "BVd1ZzV57_Ok",
        "outputId": "8de2390e-c10e-45d7-9b7b-d21f22c460e8"
      },
      "outputs": [
        {
          "output_type": "stream",
          "name": "stdout",
          "text": [
            "Enter a string: program\n",
            "1is frequency ofp\n",
            "2is frequency ofr\n",
            "1is frequency ofo\n",
            "1is frequency ofg\n",
            "2is frequency ofr\n",
            "1is frequency ofa\n",
            "1is frequency ofm\n"
          ]
        }
      ],
      "source": [
        "string = input(\"Enter a string: \")\n",
        "frequency = 0\n",
        "for i in range(0,len(string)):\n",
        "  character = string[i]\n",
        "  frequency = string.count(character)\n",
        "  print(\"The frequency of {} {}\".format(character,str(frequency)))"
      ]
    }
  ]
}