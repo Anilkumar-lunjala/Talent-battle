{
  "nbformat": 4,
  "nbformat_minor": 0,
  "metadata": {
    "colab": {
      "provenance": []
    },
    "kernelspec": {
      "name": "python3",
      "display_name": "Python 3"
    },
    "language_info": {
      "name": "python"
    }
  },
  "cells": [
    {
      "cell_type": "markdown",
      "source": [
        "##**Day 45 coding statement:** Write Program to find smallest and largest element in an array"
      ],
      "metadata": {
        "id": "08P8wxLeGpk4"
      }
    },
    {
      "cell_type": "markdown",
      "source": [
        "**Description**\n",
        "\n",
        "Get an array as input from the user and then find the smallest and largest element in the array.\n",
        "\n",
        "Input\n",
        "\n",
        "Enter the size of array :\n",
        "\n",
        "5\n",
        "\n",
        "Enter the elements :\n",
        "\n",
        "10 20 5 40 30\n",
        "\n",
        "Output\n",
        "\n",
        "Smallest Number :\n",
        "\n",
        "5\n",
        "\n",
        "Largest Number :\n",
        "\n",
        "40"
      ],
      "metadata": {
        "id": "nWNry3tjGxv9"
      }
    },
    {
      "cell_type": "code",
      "source": [
        "size = int(input(\"Enter the size of an array: \"))\n",
        "print(\"Enter the elements for an array\")\n",
        "array = list(map(int,input().split()))\n",
        "print(\"The Smallest number in the array is\\n\",min(array))\n",
        "print(\"The Largest Number in the array is\\n\",max(array))"
      ],
      "metadata": {
        "colab": {
          "base_uri": "https://localhost:8080/"
        },
        "id": "mjPHE0NoHKIE",
        "outputId": "986608b9-21a3-453b-d41c-cb7d2b369dcf"
      },
      "execution_count": 7,
      "outputs": [
        {
          "output_type": "stream",
          "name": "stdout",
          "text": [
            "Enter the size of an array: 5\n",
            "Enter the elements for an array\n",
            "10 20 5 40 30\n",
            "The Smallest number in the array is\n",
            " 5\n",
            "The Largest Number in the array is\n",
            " 40\n"
          ]
        }
      ]
    }
  ]
}