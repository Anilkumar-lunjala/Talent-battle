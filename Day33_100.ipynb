{
  "nbformat": 4,
  "nbformat_minor": 0,
  "metadata": {
    "colab": {
      "provenance": []
    },
    "kernelspec": {
      "name": "python3",
      "display_name": "Python 3"
    },
    "language_info": {
      "name": "python"
    }
  },
  "cells": [
    {
      "cell_type": "markdown",
      "source": [
        "**Day 33 coding statement**: Write a program to check if a string is a Plaindrome or not."
      ],
      "metadata": {
        "id": "FF2hChBY8H2m"
      }
    },
    {
      "cell_type": "markdown",
      "source": [
        "**Description**\n",
        "Get an input string from the user and then check whether it is a palindrome string or not.\n",
        "\n",
        "Input\n",
        "\n",
        "noon\n",
        "\n",
        "Output\n",
        "\n",
        "Palindrome\n",
        "\n",
        "Input\n",
        "\n",
        "Talent\n",
        "\n",
        "Output\n",
        "\n",
        "Not a Palindrome"
      ],
      "metadata": {
        "id": "ybh0JkTDt4tG"
      }
    },
    {
      "cell_type": "code",
      "execution_count": 37,
      "metadata": {
        "colab": {
          "base_uri": "https://localhost:8080/"
        },
        "id": "BVd1ZzV57_Ok",
        "outputId": "d63a617c-2683-428f-e604-59f7bbb9254a"
      },
      "outputs": [
        {
          "output_type": "stream",
          "name": "stdout",
          "text": [
            "Enter a string: noon\n",
            "Palindrome\n"
          ]
        }
      ],
      "source": [
        "string = input(\"Enter a string: \")\n",
        "reverse = string[::-1]\n",
        "if reverse == string:\n",
        "  print(\"Palindrome\")\n",
        "else:\n",
        "  print(\"Not Palindrome\")"
      ]
    }
  ]
}