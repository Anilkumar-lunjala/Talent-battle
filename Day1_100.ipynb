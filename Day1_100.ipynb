{
  "nbformat": 4,
  "nbformat_minor": 0,
  "metadata": {
    "colab": {
      "provenance": []
    },
    "kernelspec": {
      "name": "python3",
      "display_name": "Python 3"
    },
    "language_info": {
      "name": "python"
    }
  },
  "cells": [
    {
      "cell_type": "code",
      "execution_count": 1,
      "metadata": {
        "colab": {
          "base_uri": "https://localhost:8080/"
        },
        "id": "Uv2n2toRIfAE",
        "outputId": "43d97bca-632d-42c9-f785-2bf59535daa2"
      },
      "outputs": [
        {
          "output_type": "stream",
          "name": "stdout",
          "text": [
            "Welcome to Talent battle\n"
          ]
        }
      ],
      "source": [
        "print(\"Welcome to Talent battle\")"
      ]
    },
    {
      "cell_type": "markdown",
      "source": [
        " Write a program to identify if the character is a vowel or consonant."
      ],
      "metadata": {
        "id": "pq7KcVO3IrqN"
      }
    },
    {
      "cell_type": "code",
      "source": [
        "c = input()\n",
        "size = len(c)\n",
        "if size>1:\n",
        "  print(\"Invalid Input\")\n",
        "else:\n",
        "  if (c>='a' and c<='z') or (c>='A' and c<='Z'):\n",
        "    vowels = ['a', 'e', 'i', 'o', 'u', 'A', 'E', 'I', 'O', 'U']\n",
        "    if c in vowels:\n",
        "      print(\"Vowels\")\n",
        "    else:\n",
        "      print(\"Consonants\")\n",
        "  else:\n",
        "    print(\"Invalid Input\")"
      ],
      "metadata": {
        "colab": {
          "base_uri": "https://localhost:8080/"
        },
        "id": "H8UJgnWsIwfI",
        "outputId": "38cf6d38-db4c-4782-c1c4-0057ad9ece10"
      },
      "execution_count": 24,
      "outputs": [
        {
          "output_type": "stream",
          "name": "stdout",
          "text": [
            "a\n",
            "Vowels\n"
          ]
        }
      ]
    }
  ]
}