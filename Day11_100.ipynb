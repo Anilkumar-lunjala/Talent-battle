{
  "nbformat": 4,
  "nbformat_minor": 0,
  "metadata": {
    "colab": {
      "provenance": []
    },
    "kernelspec": {
      "name": "python3",
      "display_name": "Python 3"
    },
    "language_info": {
      "name": "python"
    }
  },
  "cells": [
    {
      "cell_type": "markdown",
      "source": [
        "Day 11 coding Statement :  Write a program to  find fibonacci series up to n"
      ],
      "metadata": {
        "id": "j2H9tEZAWoN-"
      }
    },
    {
      "cell_type": "code",
      "source": [
        "nterms = int(input(\"How many terms?\"))\n",
        "#first two terms\n",
        "n1, n2 = 0, 1\n",
        "count = 0\n",
        "#check if no.of terms is valid \n",
        "if nterms <= 0:\n",
        "  print(\"Please enter the positive number\")\n",
        "#if there is only one term, print n1\n",
        "elif nterms == 1:\n",
        "  print(\"Fibonacci series upto nterms is:\",n1)\n",
        "#find the fibonacci series\n",
        "else:\n",
        "  print(\"Fibonacci series upto nterms is:\")\n",
        "  while count < nterms:\n",
        "    print(n1)\n",
        "    nth = n1 + n2\n",
        "    #update the values\n",
        "    n1 = n2\n",
        "    n2 = nth\n",
        "    count = count + 1\n"
      ],
      "metadata": {
        "colab": {
          "base_uri": "https://localhost:8080/"
        },
        "id": "ilQZknZOQ5ST",
        "outputId": "1d3eede4-2eca-4a5c-c538-bf2cc3cae286"
      },
      "execution_count": 4,
      "outputs": [
        {
          "output_type": "stream",
          "name": "stdout",
          "text": [
            "How many terms?8\n",
            "Fibonacci series upto nterms is:\n",
            "0\n",
            "1\n",
            "1\n",
            "2\n",
            "3\n",
            "5\n",
            "8\n",
            "13\n"
          ]
        }
      ]
    }
  ]
}