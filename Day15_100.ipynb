{
  "nbformat": 4,
  "nbformat_minor": 0,
  "metadata": {
    "colab": {
      "provenance": []
    },
    "kernelspec": {
      "name": "python3",
      "display_name": "Python 3"
    },
    "language_info": {
      "name": "python"
    }
  },
  "cells": [
    {
      "cell_type": "markdown",
      "source": [
        "Day 15 coding Statement :  Write a program to identify if the number is Strong number or not"
      ],
      "metadata": {
        "id": "j2H9tEZAWoN-"
      }
    },
    {
      "cell_type": "code",
      "source": [
        "#Ask the user for input\n",
        "num = int(input(\"Enter a number\"))\n",
        "#variable to store all the sum\n",
        "sum = 0\n",
        "#temporary variable to store a copy of original number\n",
        "temp = num\n",
        "#using while loop\n",
        "while(num):\n",
        "  #initializing with 1\n",
        "  i = 1\n",
        "  #fact variable with 1\n",
        "  fact =1\n",
        "  rem = num % 10\n",
        "  while (i <= rem):\n",
        "    fact = fact * i   \n",
        "    i = i + 1\n",
        "  sum = sum + fact\n",
        "  num = num // 10\n",
        "if sum == temp:\n",
        "  print(\"It is Strong number\")\n",
        "else:\n",
        "  print(\"It is not a strong number\")\n"
      ],
      "metadata": {
        "colab": {
          "base_uri": "https://localhost:8080/"
        },
        "id": "TeTgbC2yY1hX",
        "outputId": "83916a64-dd4b-464f-806f-4627887b76f6"
      },
      "execution_count": 18,
      "outputs": [
        {
          "output_type": "stream",
          "name": "stdout",
          "text": [
            "Enter a number145\n",
            "It is Strong number\n"
          ]
        }
      ]
    }
  ]
}