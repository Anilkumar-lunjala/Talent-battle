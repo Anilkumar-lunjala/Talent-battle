{
  "nbformat": 4,
  "nbformat_minor": 0,
  "metadata": {
    "colab": {
      "provenance": []
    },
    "kernelspec": {
      "name": "python3",
      "display_name": "Python 3"
    },
    "language_info": {
      "name": "python"
    }
  },
  "cells": [
    {
      "cell_type": "markdown",
      "source": [
        "Day 22 coding Statement :  Write a program to express a number as a sum of two prime numbers."
      ],
      "metadata": {
        "id": "j2H9tEZAWoN-"
      }
    },
    {
      "cell_type": "code",
      "source": [
        "# take input\n",
        "Number = int(input('Enter the Number : '))\n",
        "# initialize an array\n",
        "arr = []\n",
        "# find prime numbers\n",
        "for i in range(2, Number):\n",
        "    flag = 0\n",
        "    for j in range(2, i):\n",
        "        if i % j == 0:\n",
        "            flag = 1\n",
        "    # append prime numbers to array\n",
        "    if flag == 0:\n",
        "        arr.append(i)\n",
        "# possible combinations\n",
        "flag = 0\n",
        "for i in range(len(arr)):\n",
        "    for j in range(i + 1, len(arr)):\n",
        "        # if condition is True Print numbers\n",
        "        if arr[i] + arr[j] == Number:\n",
        "            flag = 1\n",
        "            print(str(arr[i]) + \" and \" + str(arr[j]) + ' are prime numbers when added gives ' + str(Number))\n",
        "            break\n",
        "if flag == 0:\n",
        "    print('No Prime numbers can give sum of ' + str(Number))"
      ],
      "metadata": {
        "colab": {
          "base_uri": "https://localhost:8080/"
        },
        "id": "TeTgbC2yY1hX",
        "outputId": "9b1d5ccb-dc77-4685-e9bc-0e84545cd391"
      },
      "execution_count": 2,
      "outputs": [
        {
          "output_type": "stream",
          "name": "stdout",
          "text": [
            "Enter the Number : 5\n",
            "2 and 3 are prime numbers when added gives 5\n"
          ]
        }
      ]
    }
  ]
}