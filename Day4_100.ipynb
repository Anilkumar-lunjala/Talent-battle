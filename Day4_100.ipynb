{
  "nbformat": 4,
  "nbformat_minor": 0,
  "metadata": {
    "colab": {
      "provenance": []
    },
    "kernelspec": {
      "name": "python3",
      "display_name": "Python 3"
    },
    "language_info": {
      "name": "python"
    }
  },
  "cells": [
    {
      "cell_type": "markdown",
      "source": [
        "Day 4 coding Statement :  Write a program to identify of the a number is positive or negative"
      ],
      "metadata": {
        "id": "j2H9tEZAWoN-"
      }
    },
    {
      "cell_type": "code",
      "source": [
        "num = int(input(\"Enter a number:\"))\n",
        "if num > 0:\n",
        "  print(\"Positive Number\")\n",
        "elif num < 0:\n",
        "  print(\"Negative Number\")\n",
        "else:\n",
        "  print(\"Neither positive nor negative\")"
      ],
      "metadata": {
        "colab": {
          "base_uri": "https://localhost:8080/"
        },
        "id": "cHvpBmGvWqV1",
        "outputId": "039f3a19-4e62-433d-f283-540d0c6e5bef"
      },
      "execution_count": 11,
      "outputs": [
        {
          "output_type": "stream",
          "name": "stdout",
          "text": [
            "Enter a number:00\n",
            "Neither positive nor negative\n"
          ]
        }
      ]
    }
  ]
}