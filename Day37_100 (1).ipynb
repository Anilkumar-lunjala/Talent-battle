{
  "nbformat": 4,
  "nbformat_minor": 0,
  "metadata": {
    "colab": {
      "provenance": []
    },
    "kernelspec": {
      "name": "python3",
      "display_name": "Python 3"
    },
    "language_info": {
      "name": "python"
    }
  },
  "cells": [
    {
      "cell_type": "markdown",
      "source": [
        "**Day 37 coding statement**: Write a program to calculate frequency of a character in a string."
      ],
      "metadata": {
        "id": "FF2hChBY8H2m"
      }
    },
    {
      "cell_type": "code",
      "execution_count": 5,
      "metadata": {
        "colab": {
          "base_uri": "https://localhost:8080/"
        },
        "id": "BVd1ZzV57_Ok",
        "outputId": "07817af2-509a-414a-b41f-37e91516816b"
      },
      "outputs": [
        {
          "output_type": "stream",
          "name": "stdout",
          "text": [
            "Enter a string: program\n",
            "The frequency of p 1\n",
            "The frequency of r 2\n",
            "The frequency of o 1\n",
            "The frequency of g 1\n",
            "The frequency of r 2\n",
            "The frequency of a 1\n",
            "The frequency of m 1\n"
          ]
        }
      ],
      "source": [
        "string = input(\"Enter a string: \")\n",
        "frequency = 0\n",
        "for i in range(0,len(string)):\n",
        "  character = string[i]\n",
        "  frequency = string.count(character)\n",
        "  print(\"The frequency of {} {}\".format(character,str(frequency)))"
      ]
    }
  ]
}