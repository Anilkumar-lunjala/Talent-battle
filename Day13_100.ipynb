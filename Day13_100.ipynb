{
  "nbformat": 4,
  "nbformat_minor": 0,
  "metadata": {
    "colab": {
      "provenance": []
    },
    "kernelspec": {
      "name": "python3",
      "display_name": "Python 3"
    },
    "language_info": {
      "name": "python"
    }
  },
  "cells": [
    {
      "cell_type": "markdown",
      "source": [
        "Day 13 coding Statement :  Write a program to  find Sum of N natural numbers"
      ],
      "metadata": {
        "id": "j2H9tEZAWoN-"
      }
    },
    {
      "cell_type": "code",
      "source": [
        "import math\n",
        "n = int(input(\"Enter a number:\"))\n",
        "sum = 0\n",
        "for i in range(1,n+1):\n",
        "  sum = sum+ i\n",
        "print(sum)"
      ],
      "metadata": {
        "colab": {
          "base_uri": "https://localhost:8080/"
        },
        "id": "Ngw7SJnjHBJ1",
        "outputId": "fdaa5aa6-49a5-4dab-ac9c-e2b63165ee6a"
      },
      "execution_count": 18,
      "outputs": [
        {
          "output_type": "stream",
          "name": "stdout",
          "text": [
            "Enter a number:5\n",
            "15\n"
          ]
        }
      ]
    }
  ]
}