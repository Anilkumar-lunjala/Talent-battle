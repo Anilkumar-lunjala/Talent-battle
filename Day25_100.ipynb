{
  "nbformat": 4,
  "nbformat_minor": 0,
  "metadata": {
    "colab": {
      "provenance": []
    },
    "kernelspec": {
      "name": "python3",
      "display_name": "Python 3"
    },
    "language_info": {
      "name": "python"
    }
  },
  "cells": [
    {
      "cell_type": "markdown",
      "source": [
        "Day 25 coding statement: Write a program to print area of the circle."
      ],
      "metadata": {
        "id": "FF2hChBY8H2m"
      }
    },
    {
      "cell_type": "code",
      "execution_count": 14,
      "metadata": {
        "colab": {
          "base_uri": "https://localhost:8080/"
        },
        "id": "BVd1ZzV57_Ok",
        "outputId": "226f087e-393c-4ec0-dff8-454855386976"
      },
      "outputs": [
        {
          "output_type": "stream",
          "name": "stdout",
          "text": [
            "Enter the radius: 3\n",
            "28.259999999999998\n"
          ]
        }
      ],
      "source": [
        "radius = int(input(\"Enter the radius: \"))\n",
        "area_of_circle = 3.14* radius * radius\n",
        "print(area_of_circle)"
      ]
    }
  ]
}