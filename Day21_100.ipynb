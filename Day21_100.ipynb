{
  "nbformat": 4,
  "nbformat_minor": 0,
  "metadata": {
    "colab": {
      "provenance": []
    },
    "kernelspec": {
      "name": "python3",
      "display_name": "Python 3"
    },
    "language_info": {
      "name": "python"
    }
  },
  "cells": [
    {
      "cell_type": "markdown",
      "source": [
        "Day 21 coding Statement :  Write a program to find a number is an Palindrome number or not."
      ],
      "metadata": {
        "id": "j2H9tEZAWoN-"
      }
    },
    {
      "cell_type": "code",
      "source": [
        "num =int(input(\"Enter a number: \"))\n",
        "string = str(num)\n",
        "reverse = string[::-1]\n",
        "if reverse == string:\n",
        "  print(\"It is a Palindrome number\")\n",
        "else:\n",
        "  print(\"It is not a Palindrome number\")"
      ],
      "metadata": {
        "colab": {
          "base_uri": "https://localhost:8080/"
        },
        "id": "TeTgbC2yY1hX",
        "outputId": "0f75f55b-25d4-4ebb-aef3-a68f58f8c531"
      },
      "execution_count": 37,
      "outputs": [
        {
          "output_type": "stream",
          "name": "stdout",
          "text": [
            "Enter a number: 121\n",
            "It is a Palindrome number\n"
          ]
        }
      ]
    }
  ]
}