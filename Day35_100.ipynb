{
  "nbformat": 4,
  "nbformat_minor": 0,
  "metadata": {
    "colab": {
      "provenance": []
    },
    "kernelspec": {
      "name": "python3",
      "display_name": "Python 3"
    },
    "language_info": {
      "name": "python"
    }
  },
  "cells": [
    {
      "cell_type": "markdown",
      "source": [
        "**Day 35 coding statement**: Write a program to count the sum of the numbers in a string."
      ],
      "metadata": {
        "id": "FF2hChBY8H2m"
      }
    },
    {
      "cell_type": "code",
      "execution_count": 45,
      "metadata": {
        "colab": {
          "base_uri": "https://localhost:8080/"
        },
        "id": "BVd1ZzV57_Ok",
        "outputId": "ed8e20d6-06ec-4ff6-b380-86c74c9640f9"
      },
      "outputs": [
        {
          "output_type": "stream",
          "name": "stdout",
          "text": [
            "Enter a string: hello56\n",
            "11\n"
          ]
        }
      ],
      "source": [
        "string = input(\"Enter a string: \")\n",
        "sum = 0\n",
        "for i in string:\n",
        "  if ord(i)>=40 and ord(i)<=57:\n",
        "    sum = sum + int(i)\n",
        "print(str(sum))"
      ]
    }
  ]
}