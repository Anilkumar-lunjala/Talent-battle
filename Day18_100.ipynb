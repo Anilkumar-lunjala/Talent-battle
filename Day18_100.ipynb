{
  "nbformat": 4,
  "nbformat_minor": 0,
  "metadata": {
    "colab": {
      "provenance": []
    },
    "kernelspec": {
      "name": "python3",
      "display_name": "Python 3"
    },
    "language_info": {
      "name": "python"
    }
  },
  "cells": [
    {
      "cell_type": "markdown",
      "source": [
        "Day 18 coding Statement :  Write a program to add two Fractions."
      ],
      "metadata": {
        "id": "j2H9tEZAWoN-"
      }
    },
    {
      "cell_type": "code",
      "source": [
        "x1 = int(input(\"Enter the value for x1: \"))\n",
        "y1 = int(input(\"Enter the value for y1: \"))\n",
        "x2 = int(input(\"Enter the value for x2: \"))\n",
        "y2 = int(input(\"Enter the value for y2: \"))\n",
        "x3 = (x1*y2)+(x2*y1)\n",
        "y3 = (y1*y2)\n",
        "div = 0\n",
        "if (x3>y3):\n",
        "  div = y3\n",
        "else:\n",
        "  div = x3\n",
        "for i in range(div,0,-1):\n",
        "  if (x3 % i ==0 and y3 % i == 0):\n",
        "    x3 = x3//i\n",
        "    y3 = y3//i\n",
        "print(\"Sum of fraction is:\",x3,\"/\",y3)"
      ],
      "metadata": {
        "colab": {
          "base_uri": "https://localhost:8080/"
        },
        "id": "TeTgbC2yY1hX",
        "outputId": "0e266f7d-19db-498a-b657-717f4f8561aa"
      },
      "execution_count": 2,
      "outputs": [
        {
          "output_type": "stream",
          "name": "stdout",
          "text": [
            "Enter the value for x1: 2\n",
            "Enter the value for y1: 3\n",
            "Enter the value for x2: 4\n",
            "Enter the value for y2: 3\n",
            "Sum of fraction is: 2 / 1\n"
          ]
        }
      ]
    }
  ]
}