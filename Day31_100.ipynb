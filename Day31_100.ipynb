{
  "nbformat": 4,
  "nbformat_minor": 0,
  "metadata": {
    "colab": {
      "provenance": []
    },
    "kernelspec": {
      "name": "python3",
      "display_name": "Python 3"
    },
    "language_info": {
      "name": "python"
    }
  },
  "cells": [
    {
      "cell_type": "markdown",
      "source": [
        "**Day 31 coding statement**: Write a program to toogle each character in a string."
      ],
      "metadata": {
        "id": "FF2hChBY8H2m"
      }
    },
    {
      "cell_type": "markdown",
      "source": [
        "**Description**\n",
        "Get an input string from user and then convert the lower case of alphabets to upper case and all upper-case alphabets into lower case."
      ],
      "metadata": {
        "id": "ybh0JkTDt4tG"
      }
    },
    {
      "cell_type": "code",
      "execution_count": 17,
      "metadata": {
        "colab": {
          "base_uri": "https://localhost:8080/"
        },
        "id": "BVd1ZzV57_Ok",
        "outputId": "b202a603-2ee8-40c1-9e42-b8f03f8c05ff"
      },
      "outputs": [
        {
          "output_type": "stream",
          "name": "stdout",
          "text": [
            "Enter a string: Hello\n",
            "hELLO\n"
          ]
        }
      ],
      "source": [
        "string = input(\"Enter a string: \")\n",
        "print(string.swapcase())"
      ]
    }
  ]
}