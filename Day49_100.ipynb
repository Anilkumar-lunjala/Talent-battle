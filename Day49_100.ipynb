{
  "nbformat": 4,
  "nbformat_minor": 0,
  "metadata": {
    "colab": {
      "provenance": []
    },
    "kernelspec": {
      "name": "python3",
      "display_name": "Python 3"
    },
    "language_info": {
      "name": "python"
    }
  },
  "cells": [
    {
      "cell_type": "markdown",
      "source": [
        "##**Day 49 coding statement:**  Given 2 integer arrays X and Y of same size. Consider both arrays as vectors and print the minimum scalar product (Dot product) of 2 vectors."
      ],
      "metadata": {
        "id": "08P8wxLeGpk4"
      }
    },
    {
      "cell_type": "markdown",
      "source": [
        "**Description**\n",
        "\n",
        "Sample input 1 :\n",
        "\n",
        "4\n",
        "\n",
        "1 2 3 4\n",
        "\n",
        "5 6 7 8\n",
        "\n",
        "Sample output 1 :\n",
        "\n",
        "60\n",
        "\n",
        "Explanation :\n",
        "\n",
        "(4*5 + 3*6 + 2*7 + 1*8) = 60\n",
        "\n",
        "Sample input 2 :\n",
        "\n",
        "4\n",
        "\n",
        "-1 -2 -3 -4\n",
        "\n",
        "5 6 -7 -8\n",
        "\n",
        "Sample output 2 :\n",
        "\n",
        "-17\n",
        "\n",
        "Explanation :\n",
        "\n",
        "(-1*-8 + -2*-7 + -3*6 + -4*5) = -17"
      ],
      "metadata": {
        "id": "nWNry3tjGxv9"
      }
    },
    {
      "cell_type": "code",
      "source": [
        "n = int(input(\"enter the size of array \"))\n",
        "def dotProduct(vec_A,vec_B):\n",
        "  product = 0\n",
        "  vec_A.sort()\n",
        "  vec_B.sort(reverse= True)\n",
        "\n",
        "  for i in range(0,n):\n",
        "    product = product + vec_A[i] * vec_B[i]\n",
        "    \n",
        "  return product\n",
        "\n",
        "if __name__ == '__main__':\n",
        "  vec_A = list(map(int,input().split()))\n",
        "  vec_B = list(map(int,input().split()))\n",
        "  print(\"dot product: \",end=\"\")\n",
        "  print(dotProduct(vec_A, vec_B))\n",
        "\n"
      ],
      "metadata": {
        "colab": {
          "base_uri": "https://localhost:8080/"
        },
        "id": "R27Byipa3Nzx",
        "outputId": "6fa067f1-056a-4856-c7bd-a6943784e821"
      },
      "execution_count": 12,
      "outputs": [
        {
          "output_type": "stream",
          "name": "stdout",
          "text": [
            "enter the size of array 4\n",
            "1 2 3 4\n",
            "5 6 7 8\n",
            "dot product: 60\n"
          ]
        }
      ]
    }
  ]
}