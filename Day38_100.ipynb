{
  "nbformat": 4,
  "nbformat_minor": 0,
  "metadata": {
    "colab": {
      "provenance": []
    },
    "kernelspec": {
      "name": "python3",
      "display_name": "Python 3"
    },
    "language_info": {
      "name": "python"
    }
  },
  "cells": [
    {
      "cell_type": "markdown",
      "source": [
        "#**Day 38 coding statement**: Write a program to print Non-repeating characters in a string."
      ],
      "metadata": {
        "id": "FF2hChBY8H2m"
      }
    },
    {
      "cell_type": "markdown",
      "source": [
        "**Description**\n",
        "\n",
        "Get a string as the input from the user and print the non-repeating characters in a string.\n",
        "\n",
        "Input\n",
        "\n",
        "Hello\n",
        "\n",
        "Output\n",
        "\n",
        "H e o"
      ],
      "metadata": {
        "id": "8V5bHA37oEmq"
      }
    },
    {
      "cell_type": "code",
      "execution_count": 8,
      "metadata": {
        "id": "BVd1ZzV57_Ok",
        "colab": {
          "base_uri": "https://localhost:8080/"
        },
        "outputId": "89592113-9dc1-4cff-e461-0d08684ea79e"
      },
      "outputs": [
        {
          "output_type": "stream",
          "name": "stdout",
          "text": [
            "Enter a string: Hello\n",
            "H e o "
          ]
        }
      ],
      "source": [
        "string = input(\"Enter a string: \")\n",
        "frequency = 0\n",
        "for i in range(0,len(string)):\n",
        "  character = string[i]\n",
        "  frequency = string.count(character)\n",
        "  if frequency > 1:\n",
        "    string.replace(character,\"\")\n",
        "  else:\n",
        "    print(character,end=\" \")"
      ]
    }
  ]
}