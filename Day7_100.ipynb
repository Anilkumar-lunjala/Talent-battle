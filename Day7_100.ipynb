{
  "nbformat": 4,
  "nbformat_minor": 0,
  "metadata": {
    "colab": {
      "provenance": []
    },
    "kernelspec": {
      "name": "python3",
      "display_name": "Python 3"
    },
    "language_info": {
      "name": "python"
    }
  },
  "cells": [
    {
      "cell_type": "markdown",
      "source": [
        "Day 6 coding Statement :  Write a program to  find Number of days in a given month of a given year"
      ],
      "metadata": {
        "id": "j2H9tEZAWoN-"
      }
    },
    {
      "cell_type": "code",
      "source": [
        "month = int(input(\"Enter the month:\"))\n",
        "year = int(input(\"Enter the year:\"))\n",
        "if (month == 2 and (year%400 == 0) or ((year%100 != 0) and (year%4 == 0))):\n",
        "  print(\"Number of days is 29\")\n",
        "elif (month ==2):\n",
        "  print(\"number of days is 28\")\n",
        "elif(month == 1 or month == 3 or month == 5 or month == 7 or month == 8 or month == 10 or month == 12):\n",
        "  print(\"Number of days is 31\")\n",
        "else:\n",
        "  print(\"Number of days is 30\") "
      ],
      "metadata": {
        "colab": {
          "base_uri": "https://localhost:8080/"
        },
        "id": "cHvpBmGvWqV1",
        "outputId": "49fc0836-f164-42f5-d643-23645a31a4d0"
      },
      "execution_count": 3,
      "outputs": [
        {
          "output_type": "stream",
          "name": "stdout",
          "text": [
            "Enter the month:2\n",
            "Enter the year:2000\n",
            "Number of days is 29\n"
          ]
        }
      ]
    }
  ]
}