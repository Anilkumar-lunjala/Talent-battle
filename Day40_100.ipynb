{
  "nbformat": 4,
  "nbformat_minor": 0,
  "metadata": {
    "colab": {
      "provenance": []
    },
    "kernelspec": {
      "name": "python3",
      "display_name": "Python 3"
    },
    "language_info": {
      "name": "python"
    }
  },
  "cells": [
    {
      "cell_type": "markdown",
      "source": [
        "#**Day 40 coding statement**: Write a program to Replace substring in a string."
      ],
      "metadata": {
        "id": "FF2hChBY8H2m"
      }
    },
    {
      "cell_type": "markdown",
      "source": [
        "**Description**\n",
        "\n",
        "\n",
        "Get a string as input from the user and then get another string which has to be removed from the string.\n",
        "\n",
        "Get the third input, the new substring which is placed in that substring position.\n",
        "\n",
        "Finally print the output by replacing the substring with new string.\n",
        "\n",
        "Input\n",
        "\n",
        "Enter a string\n",
        "\n",
        "talentbattle\n",
        "\n",
        "Enter the substring to be removed :\n",
        "\n",
        "talent\n",
        "\n",
        "Enter the new substring :\n",
        "\n",
        "student\n",
        "\n",
        "Output\n",
        "\n",
        "The new string :\n",
        "\n",
        "studentbattle"
      ],
      "metadata": {
        "id": "8V5bHA37oEmq"
      }
    },
    {
      "cell_type": "code",
      "execution_count": 3,
      "metadata": {
        "id": "BVd1ZzV57_Ok",
        "colab": {
          "base_uri": "https://localhost:8080/"
        },
        "outputId": "72a07431-6e6c-4ade-95ce-d80f52a27026"
      },
      "outputs": [
        {
          "output_type": "stream",
          "name": "stdout",
          "text": [
            "Enter a string: talentbattle\n",
            "Enter the substring to be removed: talent\n",
            "Enter the new substring: student\n",
            "The new string is  studentbattle\n"
          ]
        }
      ],
      "source": [
        "string1 = input(\"Enter a string: \")\n",
        "string2 = input(\"Enter the substring to be removed: \")\n",
        "string3 = input(\"Enter the new substring: \")\n",
        "if string2 in string1:\n",
        "  string4 = string1.replace(string2,string3)\n",
        "  print(\"The new string is \",string4)\n",
        "else:\n",
        "  print(\"The substring is not in string\")"
      ]
    }
  ]
}