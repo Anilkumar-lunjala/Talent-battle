{
  "nbformat": 4,
  "nbformat_minor": 0,
  "metadata": {
    "colab": {
      "provenance": []
    },
    "kernelspec": {
      "name": "python3",
      "display_name": "Python 3"
    },
    "language_info": {
      "name": "python"
    }
  },
  "cells": [
    {
      "cell_type": "markdown",
      "source": [
        "##**Day 48 coding statement:** Write Program to remove duplicate elements in an array"
      ],
      "metadata": {
        "id": "08P8wxLeGpk4"
      }
    },
    {
      "cell_type": "markdown",
      "source": [
        "**Description**\n",
        "\n",
        "Get an array as input from the user and then remove all the duplicate elements in that array.\n",
        "\n",
        "Input\n",
        "\n",
        "Enter the size of array\n",
        "\n",
        "5\n",
        "\n",
        "Enter the elements of array\n",
        "\n",
        "35 35 45 60 60\n",
        "\n",
        "Output\n",
        "\n",
        "35 45 60"
      ],
      "metadata": {
        "id": "nWNry3tjGxv9"
      }
    },
    {
      "cell_type": "code",
      "source": [
        "size = int(input(\"Enter the size of array: \"))\n",
        "print(\"Enter the array elements \")\n",
        "array = list(map(int,input().split()))\n",
        "final_list = []\n",
        "for i in array:\n",
        "  if i not in final_list:\n",
        "    final_list.append(i)\n",
        "print(final_list)"
      ],
      "metadata": {
        "colab": {
          "base_uri": "https://localhost:8080/"
        },
        "id": "R27Byipa3Nzx",
        "outputId": "801c54f3-5c5b-4f62-e998-704e32862a8c"
      },
      "execution_count": 1,
      "outputs": [
        {
          "output_type": "stream",
          "name": "stdout",
          "text": [
            "Enter the size of array: 5\n",
            "Enter the array elements \n",
            "35 35 45 60 60\n",
            "[35, 45, 60]\n"
          ]
        }
      ]
    }
  ]
}