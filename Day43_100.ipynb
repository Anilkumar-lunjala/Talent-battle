{
  "nbformat": 4,
  "nbformat_minor": 0,
  "metadata": {
    "colab": {
      "provenance": []
    },
    "kernelspec": {
      "name": "python3",
      "display_name": "Python 3"
    },
    "language_info": {
      "name": "python"
    }
  },
  "cells": [
    {
      "cell_type": "markdown",
      "source": [
        "##**Day 43 coding statement:** Write Program to find array type."
      ],
      "metadata": {
        "id": "08P8wxLeGpk4"
      }
    },
    {
      "cell_type": "markdown",
      "source": [
        "**Description**\n",
        "\n",
        "Get an array as input from the user and check the type of the array, whether it is odd, even or mixed type.\n",
        "\n",
        "Input\n",
        "\n",
        "Enter size of array :\n",
        "\n",
        "3\n",
        "\n",
        "Enter elements \n",
        "\n",
        "1 3 5\n",
        "\n",
        "Output\n",
        "\n",
        "Odd"
      ],
      "metadata": {
        "id": "nWNry3tjGxv9"
      }
    },
    {
      "cell_type": "code",
      "source": [
        "size = int(input(\"Enter the size of the array: \"))\n",
        "array = []\n",
        "print(\"Enter the elements of array:\")\n",
        "for i in range(0,size):\n",
        "  temp = int(input())\n",
        "  array.append(temp)\n",
        "\n",
        "\n",
        "odd = 0\n",
        "even = 0 \n",
        "\n",
        "for i in range(0,size):\n",
        "  if (array[i] % 2 == 1):\n",
        "    odd += 1\n",
        "  else:\n",
        "    even += 1\n",
        "\n",
        "if (odd == size):\n",
        "  print(\"Odd\")\n",
        "elif (even == size):\n",
        "  print(\"Even\")\n",
        "else:\n",
        "  print(\"Mixed\")\n"
      ],
      "metadata": {
        "colab": {
          "base_uri": "https://localhost:8080/"
        },
        "id": "GBUMZYsDKhjx",
        "outputId": "e24a0c82-8ed0-4f78-a0b9-77d64db6ded5"
      },
      "execution_count": 7,
      "outputs": [
        {
          "output_type": "stream",
          "name": "stdout",
          "text": [
            "Enter the size of the array: 3\n",
            "Enter the elements of array:\n",
            "1\n",
            "3\n",
            "5\n",
            "Odd\n"
          ]
        }
      ]
    }
  ]
}