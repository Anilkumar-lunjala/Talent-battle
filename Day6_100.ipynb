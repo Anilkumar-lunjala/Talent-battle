{
  "nbformat": 4,
  "nbformat_minor": 0,
  "metadata": {
    "colab": {
      "provenance": []
    },
    "kernelspec": {
      "name": "python3",
      "display_name": "Python 3"
    },
    "language_info": {
      "name": "python"
    }
  },
  "cells": [
    {
      "cell_type": "markdown",
      "source": [
        "Day 6 coding Statement :  Write a program to  find the Quadrants in which coordinates lie"
      ],
      "metadata": {
        "id": "j2H9tEZAWoN-"
      }
    },
    {
      "cell_type": "code",
      "source": [
        "x = int(input(\"Enter a value for X:\"))\n",
        "y = int(input(\"Enter a value for Y:\"))\n",
        "if x > 0 and y > 0:\n",
        "  print(\"This point lies on first quadrant\")\n",
        "elif x < 0 and y > 0:\n",
        "  print(\"This point lies on second quadrant\")\n",
        "elif x < 0 and y < 0:\n",
        "  print(\"This point lies on third quadrant\")\n",
        "elif x > 0 and y < 0:\n",
        "  print(\"This point lies on fourth quadrant\")\n",
        "else:\n",
        "  print(\"This point lies at origin\") "
      ],
      "metadata": {
        "colab": {
          "base_uri": "https://localhost:8080/"
        },
        "id": "cHvpBmGvWqV1",
        "outputId": "9721c6cf-76ac-4141-e9bc-77683a2b3d31"
      },
      "execution_count": 17,
      "outputs": [
        {
          "output_type": "stream",
          "name": "stdout",
          "text": [
            "Enter a value for X:88\n",
            "Enter a value for Y:-98\n",
            "This point lies on fourth quadrant\n"
          ]
        }
      ]
    }
  ]
}