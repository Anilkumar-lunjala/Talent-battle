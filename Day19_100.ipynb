{
  "nbformat": 4,
  "nbformat_minor": 0,
  "metadata": {
    "colab": {
      "provenance": []
    },
    "kernelspec": {
      "name": "python3",
      "display_name": "Python 3"
    },
    "language_info": {
      "name": "python"
    }
  },
  "cells": [
    {
      "cell_type": "markdown",
      "source": [
        "Day 19 coding Statement :  Write a program to find a number is an Armstrong number or not."
      ],
      "metadata": {
        "id": "j2H9tEZAWoN-"
      }
    },
    {
      "cell_type": "code",
      "source": [
        "num = int(input(\"Enter a number:\"))\n",
        "temp = num\n",
        "sum = 0\n",
        "pow = len(str(num))\n",
        "while temp > 0:\n",
        "  digit = temp % 10\n",
        "  sum += digit ** pow\n",
        "  temp //= 10\n",
        "if sum == num:\n",
        "  print(\"It is Armstrong number\")\n",
        "else:\n",
        "  print(\"It is not an Armstrong number\")\n",
        "  "
      ],
      "metadata": {
        "colab": {
          "base_uri": "https://localhost:8080/"
        },
        "id": "TeTgbC2yY1hX",
        "outputId": "b29331f3-cae1-4bf8-ac95-e2cd692c106d"
      },
      "execution_count": 17,
      "outputs": [
        {
          "output_type": "stream",
          "name": "stdout",
          "text": [
            "Enter a number:1634\n",
            "It is Armstrong number\n"
          ]
        }
      ]
    }
  ]
}