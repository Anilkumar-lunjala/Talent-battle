{
  "nbformat": 4,
  "nbformat_minor": 0,
  "metadata": {
    "colab": {
      "provenance": []
    },
    "kernelspec": {
      "name": "python3",
      "display_name": "Python 3"
    },
    "language_info": {
      "name": "python"
    }
  },
  "cells": [
    {
      "cell_type": "markdown",
      "source": [
        "Day 2 coding Statement : Write a program to identify if the character is an alphabet or not."
      ],
      "metadata": {
        "id": "j2H9tEZAWoN-"
      }
    },
    {
      "cell_type": "code",
      "source": [
        "a = input()\n",
        "if (a>='a' and a<='z') or (a>='A' and a<='Z'):\n",
        "  print(\"alphabet\")\n",
        "else:\n",
        "  print(\"Not an alphabet\")"
      ],
      "metadata": {
        "colab": {
          "base_uri": "https://localhost:8080/"
        },
        "id": "cHvpBmGvWqV1",
        "outputId": "eb92f4ca-6247-484f-e24f-133318cbc0c0"
      },
      "execution_count": 5,
      "outputs": [
        {
          "output_type": "stream",
          "name": "stdout",
          "text": [
            "a\n",
            "alphabet\n"
          ]
        }
      ]
    }
  ]
}