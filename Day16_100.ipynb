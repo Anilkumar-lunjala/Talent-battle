{
  "nbformat": 4,
  "nbformat_minor": 0,
  "metadata": {
    "colab": {
      "provenance": []
    },
    "kernelspec": {
      "name": "python3",
      "display_name": "Python 3"
    },
    "language_info": {
      "name": "python"
    }
  },
  "cells": [
    {
      "cell_type": "markdown",
      "source": [
        "Day 16 coding Statement :  Write a program to identify if the number is Perfect number or not"
      ],
      "metadata": {
        "id": "j2H9tEZAWoN-"
      }
    },
    {
      "cell_type": "code",
      "source": [
        "n = int(input(\"Enter a number:\"))\n",
        "list = []\n",
        "for i in range(1, n):\n",
        "  if n % i == 0:\n",
        "    list.append(i)\n",
        "if sum(list) == n:\n",
        "  print(\"Perfect Number\")\n",
        "else:\n",
        "  print(\"Not a perfect number\")"
      ],
      "metadata": {
        "colab": {
          "base_uri": "https://localhost:8080/"
        },
        "id": "TeTgbC2yY1hX",
        "outputId": "23f6e7e6-6635-4fdb-9c7a-cee64863d9d7"
      },
      "execution_count": 17,
      "outputs": [
        {
          "output_type": "stream",
          "name": "stdout",
          "text": [
            "Enter a number:28\n",
            "Perfect Number\n"
          ]
        }
      ]
    }
  ]
}