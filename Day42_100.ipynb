{
  "nbformat": 4,
  "nbformat_minor": 0,
  "metadata": {
    "colab": {
      "provenance": []
    },
    "kernelspec": {
      "name": "python3",
      "display_name": "Python 3"
    },
    "language_info": {
      "name": "python"
    }
  },
  "cells": [
    {
      "cell_type": "markdown",
      "source": [
        "**Day 42 coding statement:** Write Program to check if two arrays are the same or not"
      ],
      "metadata": {
        "id": "08P8wxLeGpk4"
      }
    },
    {
      "cell_type": "markdown",
      "source": [
        "**Description**\n",
        "\n",
        "Get two arrays as the input from the user and check whether it is the same or not.\n",
        "\n",
        "Input\n",
        "\n",
        "Enter the size of first array :\n",
        "\n",
        "3\n",
        "\n",
        "Enter the size of second array :\n",
        "\n",
        "3\n",
        "\n",
        "Enter elements of first array :\n",
        "\n",
        "1 2 3\n",
        "\n",
        "Enter elements of second array :\n",
        "\n",
        "1 2 3\n",
        "\n",
        "Output\n",
        "\n",
        "Same"
      ],
      "metadata": {
        "id": "nWNry3tjGxv9"
      }
    },
    {
      "cell_type": "code",
      "execution_count": 10,
      "metadata": {
        "colab": {
          "base_uri": "https://localhost:8080/"
        },
        "id": "6OlXxuRME3qS",
        "outputId": "b278c995-8d54-4a5f-bd20-5375a4152fed"
      },
      "outputs": [
        {
          "output_type": "stream",
          "name": "stdout",
          "text": [
            "Enter the size of first array:3\n",
            "Enter the elements for first array:1 2 3\n",
            "Enter the size of second array:3\n",
            "Enter the elements for second array1 2 3\n",
            "\n",
            " Both arrays are same\n"
          ]
        }
      ],
      "source": [
        "def checkEqual(arr1, arr2, n1, n2):\n",
        "  if n1 != n2:\n",
        "    return False\n",
        "  else:\n",
        "    arr1.sort()\n",
        "    arr2.sort()\n",
        "    for i in range(0,n1):\n",
        "      if arr1[i] != arr2[i]:\n",
        "        return False\n",
        "  return True\n",
        "\n",
        "n1 = int(input(\"Enter the size of first array:\"))\n",
        "arr1 = list(map(int,input(\"Enter the elements for first array:\").split()))\n",
        "n2 = int(input(\"Enter the size of second array:\"))\n",
        "arr2 = list(map(int,input(\"Enter the elements for second array\").split()))\n",
        "\n",
        "if checkEqual(arr1, arr2, n1, n2):\n",
        "  print(\"\\n Both arrays are same\")\n",
        "else:\n",
        "  print(\"\\n Both arrays are not same\")"
      ]
    }
  ]
}