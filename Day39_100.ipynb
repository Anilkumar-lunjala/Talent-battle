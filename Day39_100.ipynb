{
  "nbformat": 4,
  "nbformat_minor": 0,
  "metadata": {
    "colab": {
      "provenance": []
    },
    "kernelspec": {
      "name": "python3",
      "display_name": "Python 3"
    },
    "language_info": {
      "name": "python"
    }
  },
  "cells": [
    {
      "cell_type": "markdown",
      "source": [
        "#**Day 39 coding statement**: Write a program to Find if two strings are Anagram or not."
      ],
      "metadata": {
        "id": "FF2hChBY8H2m"
      }
    },
    {
      "cell_type": "markdown",
      "source": [
        "**Description**\n",
        "\n",
        "\n",
        "Get two strings as input from the user and check whether it is Anagram or not.\n",
        "\n",
        "Input\n",
        "\n",
        "sunlight thgiluns\n",
        "\n",
        "Output\n",
        "\n",
        "Anagram"
      ],
      "metadata": {
        "id": "8V5bHA37oEmq"
      }
    },
    {
      "cell_type": "code",
      "execution_count": 3,
      "metadata": {
        "id": "BVd1ZzV57_Ok",
        "colab": {
          "base_uri": "https://localhost:8080/"
        },
        "outputId": "99368238-4250-4475-b1f0-322a7298b31a"
      },
      "outputs": [
        {
          "output_type": "stream",
          "name": "stdout",
          "text": [
            "Enter the first string: sunlight\n",
            "Enter the second string: thgulins\n",
            "Anagram\n"
          ]
        }
      ],
      "source": [
        "string1 = input(\"Enter the first string: \")\n",
        "string2 = input(\"Enter the second string: \")\n",
        "if len(string1) != len(string2):\n",
        "  print(\"Not Anagram\")\n",
        "else:\n",
        "  string1 = sorted(string1)\n",
        "  string2 = sorted(string2)\n",
        "  if string1 == string2:\n",
        "    print(\"Anagram\")\n",
        "  else:\n",
        "    print(\"Not Anagram\")"
      ]
    }
  ]
}