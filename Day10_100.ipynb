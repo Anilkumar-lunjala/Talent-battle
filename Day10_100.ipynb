{
  "nbformat": 4,
  "nbformat_minor": 0,
  "metadata": {
    "colab": {
      "provenance": []
    },
    "kernelspec": {
      "name": "python3",
      "display_name": "Python 3"
    },
    "language_info": {
      "name": "python"
    }
  },
  "cells": [
    {
      "cell_type": "markdown",
      "source": [
        "Day 10 coding Statement :  Write a program to  find factorial of a number"
      ],
      "metadata": {
        "id": "j2H9tEZAWoN-"
      }
    },
    {
      "cell_type": "code",
      "source": [
        "num = int(input(\"Enter a number: \"))\n",
        "fact = 1\n",
        "#check whether the interger is positive or negative\n",
        "if num < 0:\n",
        "  print(\"Factorial does not exist for negative numbers\")\n",
        "elif num == 0:\n",
        "  print(\"Factorial of 0 is 1\")\n",
        "else:\n",
        "  for i in range(1,num+1):\n",
        "    fact = fact * i\n",
        "  print(\"Factorial of a given number is : \",fact)\n"
      ],
      "metadata": {
        "colab": {
          "base_uri": "https://localhost:8080/"
        },
        "id": "cHvpBmGvWqV1",
        "outputId": "b2ca38bf-1e65-4a85-f20b-8885a93ef748"
      },
      "execution_count": 10,
      "outputs": [
        {
          "output_type": "stream",
          "name": "stdout",
          "text": [
            "Enter a number: 4\n",
            "Factorial of a given number is :  24\n"
          ]
        }
      ]
    }
  ]
}