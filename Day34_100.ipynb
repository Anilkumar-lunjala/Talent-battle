{
  "nbformat": 4,
  "nbformat_minor": 0,
  "metadata": {
    "colab": {
      "provenance": []
    },
    "kernelspec": {
      "name": "python3",
      "display_name": "Python 3"
    },
    "language_info": {
      "name": "python"
    }
  },
  "cells": [
    {
      "cell_type": "markdown",
      "source": [
        "**Day 34 coding statement**: Write a program to Remove brackets from an algebraic expression."
      ],
      "metadata": {
        "id": "FF2hChBY8H2m"
      }
    },
    {
      "cell_type": "code",
      "execution_count": 40,
      "metadata": {
        "colab": {
          "base_uri": "https://localhost:8080/"
        },
        "id": "BVd1ZzV57_Ok",
        "outputId": "fa2dec92-7cdb-4da6-a762-35f1fb8143f1"
      },
      "outputs": [
        {
          "output_type": "stream",
          "name": "stdout",
          "text": [
            "Enter an algebraic expression7x+(2*y)\n",
            "7x+2*y\n"
          ]
        }
      ],
      "source": [
        "string = input(\"Enter an algebraic expression\")\n",
        "string2 = ''\n",
        "for i in string:\n",
        "  if ord(i) == 40 or ord(i) == 41 or ord(i) == 91 or ord(i) == 93 or ord(i) == 123 or ord(i) == 125:\n",
        "    pass\n",
        "  else:\n",
        "    string2 = string2 + i\n",
        "print(string2)"
      ]
    }
  ]
}