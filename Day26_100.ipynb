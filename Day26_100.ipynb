{
  "nbformat": 4,
  "nbformat_minor": 0,
  "metadata": {
    "colab": {
      "provenance": []
    },
    "kernelspec": {
      "name": "python3",
      "display_name": "Python 3"
    },
    "language_info": {
      "name": "python"
    }
  },
  "cells": [
    {
      "cell_type": "markdown",
      "source": [
        "**Day 26 coding statement**: Write a program to calculate Maximum number of handshakes."
      ],
      "metadata": {
        "id": "FF2hChBY8H2m"
      }
    },
    {
      "cell_type": "markdown",
      "source": [
        "**Description:** \n",
        "Get the number of people in the room as input from the user. Then calculate the maximum number of handshakes possible among that people.\n",
        "\n",
        "For e.g. If there are N people in the room then the first person has to shake hand with N-1 people and second person has to shake hand with N-1-1 people i.e., N-2 handshakes are possible. Thus, it goes on.\n",
        "\n",
        "So total hand shakes = N-1 + N-2 + N-3 +………+1 + 0\n",
        "\n",
        "Input\n",
        "\n",
        "10\n",
        "\n",
        "Output\n",
        "\n",
        "45"
      ],
      "metadata": {
        "id": "rya0aR2BJHA5"
      }
    },
    {
      "cell_type": "code",
      "execution_count": 20,
      "metadata": {
        "colab": {
          "base_uri": "https://localhost:8080/"
        },
        "id": "BVd1ZzV57_Ok",
        "outputId": "4f664627-74a1-4eda-e1a8-f4f3cc3dd79d"
      },
      "outputs": [
        {
          "output_type": "stream",
          "name": "stdout",
          "text": [
            "Enter number of people are there in class room: 10\n",
            "The number of hand shakes possible :  45\n"
          ]
        }
      ],
      "source": [
        "number_of_people = int(input(\"Enter number of people are there in class room: \"))\n",
        "total = int(number_of_people * ((number_of_people - 1)/2))\n",
        "print(\"The number of hand shakes possible : \",total)"
      ]
    }
  ]
}