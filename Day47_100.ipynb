{
  "nbformat": 4,
  "nbformat_minor": 0,
  "metadata": {
    "colab": {
      "provenance": []
    },
    "kernelspec": {
      "name": "python3",
      "display_name": "Python 3"
    },
    "language_info": {
      "name": "python"
    }
  },
  "cells": [
    {
      "cell_type": "markdown",
      "source": [
        "##**Day 47 coding statement:** Write Program to find longest palindrome in an array"
      ],
      "metadata": {
        "id": "08P8wxLeGpk4"
      }
    },
    {
      "cell_type": "markdown",
      "source": [
        "**Description**\n",
        "\n",
        "Get an array as the input from the user and find the longest palindrome in that array.\n",
        "\n",
        "Input\n",
        "\n",
        "Enter the size of array\n",
        "\n",
        "3\n",
        "\n",
        "Enter the elements of array\n",
        "\n",
        "121 10456 1000001\n",
        "\n",
        "Output\n",
        "\n",
        "1000001"
      ],
      "metadata": {
        "id": "nWNry3tjGxv9"
      }
    },
    {
      "cell_type": "code",
      "source": [
        "# Function to check if n is palindrome\n",
        "def isPalindrome(n):\n",
        "\n",
        "   divisor = 1\n",
        "   while (int(n / divisor) >= 10):\n",
        "      divisor *= 10\n",
        "\n",
        "   while (n != 0):\n",
        "      leading = int(n / divisor)\n",
        "      trailing = n % 10\n",
        "  \n",
        "      if (leading != trailing):\n",
        "        return False\n",
        "\n",
        "      n = int((n % divisor) / 10)\n",
        "\n",
        "      divisor = int(divisor / 100)\n",
        "   return True\n",
        "\n",
        "# Function to find the largest palindromic element\n",
        "def largestPalindrome(arr, n):\n",
        "   currentMax = -1\n",
        "\n",
        "   for i in range(0, n, 1):\n",
        "      if (arr[i] > currentMax and isPalindrome(arr[i])):\n",
        "         currentMax = arr[i]\n",
        "\n",
        "   return currentMax\n",
        "\n",
        "# Driver Code\n",
        "print(\"Enter the array elements\")\n",
        "arr = list(map(int,input().split()))\n",
        "n = len(arr)\n",
        "\n",
        "# print required answer\n",
        "print(largestPalindrome(arr, n))"
      ],
      "metadata": {
        "colab": {
          "base_uri": "https://localhost:8080/"
        },
        "id": "R27Byipa3Nzx",
        "outputId": "52672e7a-23b5-483f-ea21-4e938674b1e4"
      },
      "execution_count": 13,
      "outputs": [
        {
          "output_type": "stream",
          "name": "stdout",
          "text": [
            "Enter the array elements\n",
            "121 10456 1000001\n",
            "1000001\n"
          ]
        }
      ]
    }
  ]
}