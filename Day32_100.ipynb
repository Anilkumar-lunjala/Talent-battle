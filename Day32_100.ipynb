{
  "nbformat": 4,
  "nbformat_minor": 0,
  "metadata": {
    "colab": {
      "provenance": []
    },
    "kernelspec": {
      "name": "python3",
      "display_name": "Python 3"
    },
    "language_info": {
      "name": "python"
    }
  },
  "cells": [
    {
      "cell_type": "markdown",
      "source": [
        "**Day 32 coding statement**: Write a program to remove vowels from a string."
      ],
      "metadata": {
        "id": "FF2hChBY8H2m"
      }
    },
    {
      "cell_type": "markdown",
      "source": [
        "**Description**\n",
        "Get a string as the input from the user and then remove all the vowel letters from the string and give the output.\n",
        "\n",
        "Input\n",
        "\n",
        "remove\n",
        "\n",
        "Output\n",
        "\n",
        "rmv"
      ],
      "metadata": {
        "id": "ybh0JkTDt4tG"
      }
    },
    {
      "cell_type": "code",
      "execution_count": 33,
      "metadata": {
        "colab": {
          "base_uri": "https://localhost:8080/"
        },
        "id": "BVd1ZzV57_Ok",
        "outputId": "3fdbedea-067a-463f-bdc2-ce42b17df193"
      },
      "outputs": [
        {
          "output_type": "stream",
          "name": "stdout",
          "text": [
            "Enter a string: remove\n",
            "rmv\n"
          ]
        }
      ],
      "source": [
        "import re\n",
        "string = input(\"Enter a string: \")\n",
        "print(re.sub(\"[aeiouAEIOU]\",\"\",string))"
      ]
    }
  ]
}