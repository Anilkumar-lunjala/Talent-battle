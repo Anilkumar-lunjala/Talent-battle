{
  "nbformat": 4,
  "nbformat_minor": 0,
  "metadata": {
    "colab": {
      "provenance": []
    },
    "kernelspec": {
      "name": "python3",
      "display_name": "Python 3"
    },
    "language_info": {
      "name": "python"
    }
  },
  "cells": [
    {
      "cell_type": "markdown",
      "source": [
        "##**Day 51 coding statement:** Given an integer array of size N, write a program to sort the array"
      ],
      "metadata": {
        "id": "08P8wxLeGpk4"
      }
    },
    {
      "cell_type": "markdown",
      "source": [
        "**Description**\n",
        "\n",
        "Sample input 1:\n",
        "\n",
        "4\n",
        "\n",
        "2 4 1 3\n",
        "\n",
        "Sample output 1:\n",
        "\n",
        "1 2 3 4\n",
        "\n",
        "Sample input 2:\n",
        "\n",
        "5\n",
        "\n",
        "1 5 7 5 3\n",
        "\n",
        "Sample output 2:\n",
        "\n",
        "1 3 5 5 7"
      ],
      "metadata": {
        "id": "nWNry3tjGxv9"
      }
    },
    {
      "cell_type": "code",
      "source": [
        "size = int(input(\"Enter the size of array: \"))\n",
        "print(\"Enter the array elements \")\n",
        "array = list(map(int,input().split()))\n",
        "final_list =[]\n",
        "for i in array:\n",
        "  final_list.append(i)\n",
        "final_list.sort()\n",
        "print(final_list)"
      ],
      "metadata": {
        "colab": {
          "base_uri": "https://localhost:8080/"
        },
        "id": "R27Byipa3Nzx",
        "outputId": "5aedea94-fc44-4796-9303-6705b22824ee"
      },
      "execution_count": 11,
      "outputs": [
        {
          "output_type": "stream",
          "name": "stdout",
          "text": [
            "Enter the size of array: 5\n",
            "Enter the array elements \n",
            "1 5 4 6 3\n",
            "[1, 3, 4, 5, 6]\n"
          ]
        }
      ]
    }
  ]
}