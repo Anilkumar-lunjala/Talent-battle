{
  "nbformat": 4,
  "nbformat_minor": 0,
  "metadata": {
    "colab": {
      "provenance": []
    },
    "kernelspec": {
      "name": "python3",
      "display_name": "Python 3"
    },
    "language_info": {
      "name": "python"
    }
  },
  "cells": [
    {
      "cell_type": "markdown",
      "source": [
        "Day 12 coding Statement :  Write a program to  find Sum of digits of a number"
      ],
      "metadata": {
        "id": "j2H9tEZAWoN-"
      }
    },
    {
      "cell_type": "code",
      "source": [
        "def GetSum(n):\n",
        "  sum = 0\n",
        "  for i in str(n):\n",
        "    sum += int(i)\n",
        "  return sum\n",
        "\n",
        "n = int(input(\"enter a number:\"))\n",
        "print(\"the sum of digits of a number is\",GetSum(n))\n",
        "  "
      ],
      "metadata": {
        "colab": {
          "base_uri": "https://localhost:8080/"
        },
        "id": "Ngw7SJnjHBJ1",
        "outputId": "f2e5d86a-961c-4b9b-9d5e-66c5be372d9f"
      },
      "execution_count": 8,
      "outputs": [
        {
          "output_type": "stream",
          "name": "stdout",
          "text": [
            "enter a number:4521\n",
            "the sum of digits of a number is 12\n"
          ]
        }
      ]
    }
  ]
}