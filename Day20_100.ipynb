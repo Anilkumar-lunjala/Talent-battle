{
  "nbformat": 4,
  "nbformat_minor": 0,
  "metadata": {
    "colab": {
      "provenance": []
    },
    "kernelspec": {
      "name": "python3",
      "display_name": "Python 3"
    },
    "language_info": {
      "name": "python"
    }
  },
  "cells": [
    {
      "cell_type": "markdown",
      "source": [
        "Day 20 coding Statement :  Write a program to find a number is an Prime number or not."
      ],
      "metadata": {
        "id": "j2H9tEZAWoN-"
      }
    },
    {
      "cell_type": "code",
      "source": [
        "num = int(input(\"Enter a number: \"))\n",
        "if num == 1:\n",
        "  print(num,\"is not a Prime number\")\n",
        "elif num> 1:\n",
        "  for i in range(2,num):\n",
        "    if (i % num == 0):\n",
        "      print(num,\"is not a Prime number\")\n",
        "      break\n",
        "  else:\n",
        "      print(num,\"is a Prime number\") \n",
        "else:\n",
        "  print(num,\"is not a Prime number\") "
      ],
      "metadata": {
        "colab": {
          "base_uri": "https://localhost:8080/"
        },
        "id": "TeTgbC2yY1hX",
        "outputId": "ee2198c0-f06f-4093-903e-6d92cb8f4633"
      },
      "execution_count": 22,
      "outputs": [
        {
          "output_type": "stream",
          "name": "stdout",
          "text": [
            "Enter a number: 5\n",
            "5 is a Prime number\n"
          ]
        }
      ]
    }
  ]
}